{
 "cells": [
  {
   "cell_type": "code",
   "execution_count": null,
   "id": "6a7bbebd",
   "metadata": {},
   "outputs": [],
   "source": [
    "import numpy as np\n",
    "import librosa\n",
    "import librosa.display as lbd \n",
    "import matplotlib.pyplot as plt\n",
    "import IPython"
   ]
  },
  {
   "cell_type": "code",
   "execution_count": null,
   "id": "ff3e2cc7",
   "metadata": {},
   "outputs": [],
   "source": [
    "%matplotlib qt"
   ]
  },
  {
   "cell_type": "code",
   "execution_count": null,
   "id": "82a4a592",
   "metadata": {},
   "outputs": [],
   "source": [
    "###"
   ]
  },
  {
   "cell_type": "code",
   "execution_count": null,
   "id": "dd911cd8",
   "metadata": {},
   "outputs": [],
   "source": [
    "signal, sr = librosa.load('New-Composition-_3.wav')"
   ]
  },
  {
   "cell_type": "code",
   "execution_count": null,
   "id": "d8b89303",
   "metadata": {},
   "outputs": [],
   "source": [
    "# \n",
    "n_fft = 2048\n",
    "hop_len = n_fft//4"
   ]
  },
  {
   "cell_type": "code",
   "execution_count": null,
   "id": "7bfde9d3",
   "metadata": {},
   "outputs": [],
   "source": [
    "y = librosa.stft(signal, n_fft = n_fft, hop_length = hop_len)\n",
    "S_db = librosa.amplitude_to_db(np.abs(y))"
   ]
  },
  {
   "cell_type": "code",
   "execution_count": null,
   "id": "6bd7d2a6",
   "metadata": {},
   "outputs": [],
   "source": [
    "time = np.linspace(0, 1/sr*len(signal), num = len(signal))"
   ]
  },
  {
   "cell_type": "code",
   "execution_count": null,
   "id": "57f81e1b",
   "metadata": {},
   "outputs": [],
   "source": [
    "##"
   ]
  },
  {
   "cell_type": "code",
   "execution_count": null,
   "id": "f9232f57",
   "metadata": {},
   "outputs": [],
   "source": [
    "tempo, beats = librosa.beat.beat_track(y=signal, sr=sr)"
   ]
  },
  {
   "cell_type": "code",
   "execution_count": null,
   "id": "f80648bc",
   "metadata": {},
   "outputs": [],
   "source": [
    "beats_time = librosa.frames_to_time(beats, sr=sr)"
   ]
  },
  {
   "cell_type": "code",
   "execution_count": null,
   "id": "441fbde3",
   "metadata": {
    "scrolled": true
   },
   "outputs": [],
   "source": [
    "beats_time"
   ]
  },
  {
   "cell_type": "code",
   "execution_count": null,
   "id": "c2557cc2",
   "metadata": {},
   "outputs": [],
   "source": [
    "fig, ax = plt.subplots()\n",
    "ax.plot(time, signal)\n",
    "max_val = np.amax(signal)*1.05\n",
    "\n",
    "for b in beats_time:\n",
    "    ax.vlines(b, 0, max_val, 'r')"
   ]
  },
  {
   "cell_type": "code",
   "execution_count": null,
   "id": "d3e83f3e",
   "metadata": {},
   "outputs": [],
   "source": [
    "i_beat = 100\n",
    "step = 40\n",
    "time_choosen_ix = (time>=beats_time[i_beat])&(time<beats_time[i_beat+step])"
   ]
  },
  {
   "cell_type": "code",
   "execution_count": null,
   "id": "73c06316",
   "metadata": {},
   "outputs": [],
   "source": [
    "beats_time[i_beat]"
   ]
  },
  {
   "cell_type": "code",
   "execution_count": null,
   "id": "13568620",
   "metadata": {},
   "outputs": [],
   "source": []
  },
  {
   "cell_type": "code",
   "execution_count": null,
   "id": "0a15534a",
   "metadata": {},
   "outputs": [],
   "source": [
    "time[time_choosen_ix]"
   ]
  },
  {
   "cell_type": "code",
   "execution_count": null,
   "id": "2983620b",
   "metadata": {},
   "outputs": [],
   "source": [
    "time_choosen"
   ]
  },
  {
   "cell_type": "code",
   "execution_count": null,
   "id": "c21b24e6",
   "metadata": {},
   "outputs": [],
   "source": []
  },
  {
   "cell_type": "code",
   "execution_count": null,
   "id": "d4910b8d",
   "metadata": {},
   "outputs": [],
   "source": []
  },
  {
   "cell_type": "code",
   "execution_count": null,
   "id": "25915933",
   "metadata": {},
   "outputs": [],
   "source": [
    "###"
   ]
  },
  {
   "cell_type": "code",
   "execution_count": null,
   "id": "6c0c4416",
   "metadata": {},
   "outputs": [],
   "source": [
    "y_harmonic, y_percussive = librosa.decompose.hpss(y, margin=8.0)"
   ]
  },
  {
   "cell_type": "code",
   "execution_count": null,
   "id": "12158059",
   "metadata": {},
   "outputs": [],
   "source": [
    "rp = np.max(np.abs(y))"
   ]
  },
  {
   "cell_type": "code",
   "execution_count": null,
   "id": "07330c24",
   "metadata": {},
   "outputs": [],
   "source": [
    "S_db_harmonic, S_db_percussive = \\\n",
    "    librosa.amplitude_to_db(np.abs(y_harmonic), ref=rp), librosa.amplitude_to_db(np.abs(y_percussive), ref=rp)"
   ]
  },
  {
   "cell_type": "code",
   "execution_count": null,
   "id": "1f2186d4",
   "metadata": {},
   "outputs": [],
   "source": [
    "plt.figure(figsize=(12, 8))\n",
    "\n",
    "plt.subplot(3, 1, 1)\n",
    "librosa.display.specshow(S_db, y_axis='log')\n",
    "plt.colorbar()\n",
    "plt.title('Full spectrogram')\n",
    "\n",
    "plt.subplot(3, 1, 2)\n",
    "librosa.display.specshow(S_db_harmonic, y_axis='log')\n",
    "plt.colorbar()\n",
    "plt.title('Harmonic spectrogram')\n",
    "\n",
    "plt.subplot(3, 1, 3)\n",
    "librosa.display.specshow(S_db_percussive, y_axis='log', x_axis='time')\n",
    "plt.colorbar()\n",
    "plt.title('Percussive spectrogram')\n",
    "plt.tight_layout()"
   ]
  },
  {
   "cell_type": "code",
   "execution_count": null,
   "id": "0492e2e9",
   "metadata": {},
   "outputs": [],
   "source": [
    "## inversing"
   ]
  },
  {
   "cell_type": "code",
   "execution_count": null,
   "id": "15b4e9bc",
   "metadata": {},
   "outputs": [],
   "source": [
    "sig_percussive = librosa.istft(y_percussive)"
   ]
  },
  {
   "cell_type": "code",
   "execution_count": null,
   "id": "e0450dd9",
   "metadata": {},
   "outputs": [],
   "source": [
    "sig_harmonic = librosa.istft(y_harmonic)"
   ]
  },
  {
   "cell_type": "code",
   "execution_count": null,
   "id": "20fd6857",
   "metadata": {},
   "outputs": [],
   "source": [
    "fig, ax = plt.subplots()\n",
    "lbd.waveshow(sig_percussive, sr=sr, ax=ax)"
   ]
  },
  {
   "cell_type": "code",
   "execution_count": null,
   "id": "14e7e420",
   "metadata": {},
   "outputs": [],
   "source": [
    "IPython.display.Audio(data = sig_percussive, rate=sr)"
   ]
  },
  {
   "cell_type": "code",
   "execution_count": null,
   "id": "39589c38",
   "metadata": {},
   "outputs": [],
   "source": [
    "IPython.display.Audio(data = sig_harmonic, rate=sr)"
   ]
  },
  {
   "cell_type": "code",
   "execution_count": null,
   "id": "88891063",
   "metadata": {},
   "outputs": [],
   "source": []
  }
 ],
 "metadata": {
  "kernelspec": {
   "display_name": "Python 3 (ipykernel)",
   "language": "python",
   "name": "python3"
  },
  "language_info": {
   "codemirror_mode": {
    "name": "ipython",
    "version": 3
   },
   "file_extension": ".py",
   "mimetype": "text/x-python",
   "name": "python",
   "nbconvert_exporter": "python",
   "pygments_lexer": "ipython3",
   "version": "3.10.8"
  }
 },
 "nbformat": 4,
 "nbformat_minor": 5
}
